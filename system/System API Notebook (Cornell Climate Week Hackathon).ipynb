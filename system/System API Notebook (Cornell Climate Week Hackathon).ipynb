{
 "cells": [
  {
   "cell_type": "code",
   "execution_count": null,
   "id": "94660026-1a51-4b57-a936-6f48134fcbda",
   "metadata": {},
   "outputs": [],
   "source": [
    "# install System's public api client\n",
    "\n",
    "!pip install --extra-index-url https://pypi.fury.io/systeminc api_client"
   ]
  },
  {
   "cell_type": "code",
   "execution_count": null,
   "id": "84d3037e-1639-4cc6-a85d-eaa19af87ff0",
   "metadata": {},
   "outputs": [],
   "source": [
    "# Alternatively find all the datasets produced below here:\n",
    "\n",
    "# https://healthinclimate-ai-hackathon-system-datasets.s3.us-east-1.amazonaws.com/system_climate_topics.csv\n",
    "# https://healthinclimate-ai-hackathon-system-datasets.s3.us-east-1.amazonaws.com/system_climate_relationships.csv\n",
    "# https://healthinclimate-ai-hackathon-system-datasets.s3.us-east-1.amazonaws.com/system_climate_findings.csv"
   ]
  },
  {
   "cell_type": "code",
   "execution_count": null,
   "id": "96330462-5c51-4e8a-978c-e8b73b2ebf5f",
   "metadata": {},
   "outputs": [],
   "source": [
    "import requests\n",
    "import pandas as pd\n",
    "import json\n",
    "\n",
    "import api_client\n",
    "\n",
    "API_KEY = \"t700pcvEia4mCOGYQnNuE3GQAdgAY1P2328Jr4Qn\""
   ]
  },
  {
   "cell_type": "markdown",
   "id": "66deedf0-c34b-46f9-adf9-349d7623b446",
   "metadata": {},
   "source": [
    "# System API\n",
    "\n",
    "https://api-docs.system.com/"
   ]
  },
  {
   "cell_type": "code",
   "execution_count": null,
   "id": "3699f713-b57a-4f80-bdba-08dac3f06a26",
   "metadata": {},
   "outputs": [],
   "source": [
    "system_client = api_client.ApiClient(header_name=\"x-api-key\", header_value=API_KEY)\n",
    "\n",
    "topics_api = api_client.api.topics_api.TopicsApi(system_client)\n",
    "relationships_api = api_client.api.relationships_api.RelationshipsApi(system_client)\n",
    "\n",
    "# 24 Climate-related Topics\n",
    "topic_list = \"ak7lpHYuXE,P6IzhScRdx,alMLXtyJaf,icvzjWGzKD,Nw53jOQJ-3,DC_F0GO0WQ,36gde7OoEQ,jtzZPZ8DQh,dqIh31-nYb,oG8Da1gCE9,wpUeTjUbAc,4FaXcuNJRt,hLVvosw9nG,IBrypEE5vL,LQWjUNDY2O,qIJ-WYI1TN,rRpdh5vkse,VbhaEHYy0f,KORxmct3X4,imJDq4beGb,UBLYDhO7ul,Ya_mN0YSXB,SaxqJzugQe,MtUI-7H2Qe\""
   ]
  },
  {
   "cell_type": "markdown",
   "id": "a94e4045-6820-4e67-b4df-651980b7f3b6",
   "metadata": {},
   "source": [
    "# Collect System Topics"
   ]
  },
  {
   "cell_type": "code",
   "execution_count": null,
   "id": "f4b006e3-c6c0-4e47-ad34-46d30859bc70",
   "metadata": {},
   "outputs": [],
   "source": [
    "# Collect Topics\n",
    "\n",
    "topics_in_json = []\n",
    "\n",
    "for i in topic_list.split(\",\"):\n",
    "    topic_return = topics_api.get_topic_by_id(topic_id=i)\n",
    "    topics_in_json.append(json.loads(topic_return.to_json()))\n",
    "    \n",
    "topic_df = pd.DataFrame.from_dict(topics_in_json, orient='columns')[['id', 'name', 'wikidata_id', 'category']]"
   ]
  },
  {
   "cell_type": "markdown",
   "id": "c8e7e3b9-f74d-48a9-92d4-c7e257772bc3",
   "metadata": {},
   "source": [
    "# Collect System Relationships"
   ]
  },
  {
   "cell_type": "code",
   "execution_count": null,
   "id": "16047589-3fd1-4e32-ac11-77930ec09204",
   "metadata": {},
   "outputs": [],
   "source": [
    "# Collect Relationships between Climate-related Topics and any other System Topic\n",
    "\n",
    "relationships = []\n",
    "\n",
    "for i in topics_in_json:\n",
    "    \n",
    "    total_response = topics_api.get_topic_relationships(topic_id=i.get(\"id\"), include_total=True)\n",
    "    \n",
    "    if total_response.total == 0:\n",
    "        continue\n",
    "    \n",
    "    rel_response = topics_api.get_topic_relationships(\n",
    "        topic_id=i.get(\"id\"), \n",
    "        fields=\"id,num_findings,num_studies,num_significant_findings,highest_cited,median_effect_size\", \n",
    "        limit=total_response.total\n",
    "    )\n",
    "    \n",
    "    for j in rel_response.data:\n",
    "        relationships.append(json.loads(j.to_json()))\n",
    "\n",
    "relationship_collection = []\n",
    "\n",
    "for i in relationships:\n",
    "    ids = i.get(\"id\").split(\"|\")\n",
    "    i['source_topic'] = ids[0]\n",
    "    i['target_topic'] = ids[1]\n",
    "    \n",
    "    new_i = {\n",
    "        \"relationship_id\": i.get(\"id\"),\n",
    "        \"num_findings\": i.get(\"num_findings\"),\n",
    "        \"num_studies\": i.get(\"num_studies\"),\n",
    "        \"num_significant_findings\": i.get(\"num_significant_findings\"),\n",
    "        \"highest_cited\": i.get(\"highest_cited\"),\n",
    "        \"median_effect_size\": i.get(\"median_effect_size\"),\n",
    "        \"source_topic\": i.get(\"source_topic\"),\n",
    "        \"target_topic\": i.get(\"target_topic\"),\n",
    "    }\n",
    "    \n",
    "    relationship_collection.append(new_i)\n",
    "\n",
    "relationship_df = pd.DataFrame(relationship_collection)"
   ]
  },
  {
   "cell_type": "markdown",
   "id": "77b05dc6-c6c5-4a3e-acd2-34865024685f",
   "metadata": {},
   "source": [
    "# Collect System Findings (for one Relationship)"
   ]
  },
  {
   "cell_type": "code",
   "execution_count": null,
   "id": "ddeefb5f-006e-423f-bce4-6b7aa211d062",
   "metadata": {},
   "outputs": [],
   "source": [
    "# Get a set of findings related to a single System Relationship\n",
    "\n",
    "# Relationship IDs are formatted as: \"<system topic id>|<system topic id>\"\n",
    "\n",
    "relationship_id = \"4jVFGkHWOi|MtUI-7H2Qe\"\n",
    "\n",
    "rel_total_response = relationships_api.get_relationship_statistical_findings(relationship_id=relationship_id, include_total=True)\n",
    "rel_total = rel_total_response.total\n",
    "rel_response = relationships_api.get_relationship_statistical_findings(\n",
    "    relationship_id=relationship_id, \n",
    "    limit = rel_total\n",
    ")\n",
    "\n",
    "this_relationship = []\n",
    "\n",
    "for j in rel_response.data:\n",
    "    \n",
    "    if j.study.publish_date:\n",
    "        month = j.study.publish_date.month\n",
    "        year = j.study.publish_date.year\n",
    "        day = j.study.publish_date.day\n",
    "    else:\n",
    "        month = \"XX\"\n",
    "        year = \"XXXX\"\n",
    "        day = \"XX\"\n",
    "    \n",
    "    this_finding = {\n",
    "        \"id\": j.id,\n",
    "        \"summary\": j.summary,\n",
    "        \"topic_1_id\": j.topic_1.id,\n",
    "        \"topic_1_name\": j.topic_1.name,\n",
    "        \"variable_1_id\": j.variable_1.id,\n",
    "        \"variable_1_name\": j.variable_1.name,\n",
    "        \"topic_2_id\": j.topic_2.id,\n",
    "        \"topic_2_name\": j.topic_2.name,\n",
    "        \"variable_2_id\": j.variable_2.id,\n",
    "        \"variable_2_name\": j.variable_2.name,\n",
    "        \"statistic_type\": j.statistic_type.name,\n",
    "        \"statistic_value\":  j.statistic_value,\n",
    "        \"effect_size\": j.effect_size,\n",
    "        \"ci_upper\": j.ci_upper,\n",
    "        \"ci_lower\": j.ci_lower,\n",
    "        \"p_value\": j.p_value,\n",
    "        \"study_id\": j.study.id,\n",
    "        \"study_doi\": j.study.doi,\n",
    "        \"study_journal\": j.study.journal,\n",
    "        \"study_published_data\": f\"{month}/{day}/{year}\",\n",
    "        \"study_population\": j.study.population,\n",
    "        \"study_sample_size\": j.study.sample_size,\n",
    "        \"study_cited_by\": j.study.cited_by,\n",
    "    }\n",
    "\n",
    "    this_relationship.append(this_finding)\n",
    "\n",
    "finding_df = pd.DataFrame(this_relationship)"
   ]
  }
 ],
 "metadata": {
  "language_info": {
   "codemirror_mode": {
    "name": "ipython",
    "version": 3
   },
   "file_extension": ".py",
   "mimetype": "text/x-python",
   "name": "python",
   "nbconvert_exporter": "python",
   "pygments_lexer": "ipython3",
   "version": "3.10.4"
  }
 },
 "nbformat": 4,
 "nbformat_minor": 5
}
